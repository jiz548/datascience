{
 "cells": [
  {
   "cell_type": "markdown",
   "metadata": {},
   "source": [
    "## Due date: Wednesday 03/04 at 11:59 pm ##"
   ]
  },
  {
   "cell_type": "code",
   "execution_count": 16,
   "metadata": {},
   "outputs": [],
   "source": [
    "import numpy as np\n",
    "import matplotlib.pyplot as plt"
   ]
  },
  {
   "cell_type": "markdown",
   "metadata": {},
   "source": [
    "# Lab 4: Eigenvalues of random sample covariance matrices#\n"
   ]
  },
  {
   "cell_type": "markdown",
   "metadata": {},
   "source": [
    "Let's simulate $X$, a mxN matrix with i.i.d standard normal random vector as columns.\n",
    "Hint: you can use np.random.normal(0,1,size)\n",
    "Let's assume for now $m=1000$ and $N=500$"
   ]
  },
  {
   "cell_type": "code",
   "execution_count": 17,
   "metadata": {},
   "outputs": [],
   "source": [
    "### 1 ###\n",
    "#student\n",
    "m=1000\n",
    "N=500\n",
    "X=np.random.normal(0,1,(m,N))"
   ]
  },
  {
   "cell_type": "markdown",
   "metadata": {},
   "source": [
    "Let's now compute $$C=\\frac{1}{N}X^\\top X$$ and its eigenvalues."
   ]
  },
  {
   "cell_type": "code",
   "execution_count": 18,
   "metadata": {},
   "outputs": [],
   "source": [
    "### 2 ###\n",
    "#student\n",
    "C= 1/N*(np.dot(np.transpose(X),X))\n",
    "eigvals, eigvecs = np.linalg.eig(C)"
   ]
  },
  {
   "cell_type": "markdown",
   "metadata": {},
   "source": [
    "Let's now plot an histogram of the eigenvalues."
   ]
  },
  {
   "cell_type": "code",
   "execution_count": 19,
   "metadata": {},
   "outputs": [
    {
     "data": {
      "text/plain": [
       "(array([0.42159315, 0.41262308, 0.35880268, 0.32292241, 0.30498228,\n",
       "        0.26013194, 0.25116187, 0.22425167, 0.20631154, 0.19734147,\n",
       "        0.16146121, 0.17043127, 0.15249114, 0.134551  , 0.134551  ,\n",
       "        0.11661087, 0.1076408 , 0.09867074, 0.08970067, 0.08970067,\n",
       "        0.07176054, 0.06279047, 0.06279047, 0.04485033, 0.0269102 ]),\n",
       " array([0.173281  , 0.39624478, 0.61920855, 0.84217233, 1.06513611,\n",
       "        1.28809988, 1.51106366, 1.73402743, 1.95699121, 2.17995499,\n",
       "        2.40291876, 2.62588254, 2.84884631, 3.07181009, 3.29477386,\n",
       "        3.51773764, 3.74070142, 3.96366519, 4.18662897, 4.40959274,\n",
       "        4.63255652, 4.8555203 , 5.07848407, 5.30144785, 5.52441162,\n",
       "        5.7473754 ]),\n",
       " <a list of 25 Patch objects>)"
      ]
     },
     "execution_count": 19,
     "metadata": {},
     "output_type": "execute_result"
    },
    {
     "data": {
      "image/png": "[encoded data removed]",
      "text/plain": [
       "<Figure size 432x288 with 1 Axes>"
      ]
     },
     "metadata": {
      "needs_background": "light"
     },
     "output_type": "display_data"
    }
   ],
   "source": [
    "### 3 ###\n",
    "#student\n",
    "plt.hist(eigvals,density=True,bins=25)"
   ]
  },
  {
   "cell_type": "markdown",
   "metadata": {},
   "source": [
    "Now perform the same step on $$\\tilde{C}=\\frac{1}{N}X X^\\top$$"
   ]
  },
  {
   "cell_type": "code",
   "execution_count": 20,
   "metadata": {},
   "outputs": [
    {
     "data": {
      "text/plain": [
       "(array([2.20970428, 0.2261902 , 0.19574152, 0.18269209, 0.15659322,\n",
       "        0.13919397, 0.13484416, 0.11744491, 0.10004567, 0.10004567,\n",
       "        0.09134604, 0.08264642, 0.08264642, 0.06524717, 0.06959699,\n",
       "        0.06524717, 0.05219774, 0.05219774, 0.04784793, 0.04349812,\n",
       "        0.03044868, 0.0391483 , 0.03044868, 0.01739925, 0.01739925]),\n",
       " array([-1.74569284e-15+0.j,  2.29895016e-01+0.j,  4.59790032e-01+0.j,\n",
       "         6.89685048e-01+0.j,  9.19580064e-01+0.j,  1.14947508e+00+0.j,\n",
       "         1.37937010e+00+0.j,  1.60926511e+00+0.j,  1.83916013e+00+0.j,\n",
       "         2.06905514e+00+0.j,  2.29895016e+00+0.j,  2.52884518e+00+0.j,\n",
       "         2.75874019e+00+0.j,  2.98863521e+00+0.j,  3.21853022e+00+0.j,\n",
       "         3.44842524e+00+0.j,  3.67832026e+00+0.j,  3.90821527e+00+0.j,\n",
       "         4.13811029e+00+0.j,  4.36800530e+00+0.j,  4.59790032e+00+0.j,\n",
       "         4.82779534e+00+0.j,  5.05769035e+00+0.j,  5.28758537e+00+0.j,\n",
       "         5.51748038e+00+0.j,  5.74737540e+00+0.j]),\n",
       " <a list of 25 Patch objects>)"
      ]
     },
     "execution_count": 20,
     "metadata": {},
     "output_type": "execute_result"
    },
    {
     "data": {
      "image/png": "[encoded data removed]",
      "text/plain": [
       "<Figure size 432x288 with 1 Axes>"
      ]
     },
     "metadata": {
      "needs_background": "light"
     },
     "output_type": "display_data"
    }
   ],
   "source": [
    "### 4 ###\n",
    "#student\n",
    "Ctilde=1/N*(np.dot(X,np.transpose(X)))\n",
    "eigvals, eigvecs = np.linalg.eig(Ctilde)\n",
    "plt.hist(eigvals,density=True,bins=25)"
   ]
  },
  {
   "cell_type": "markdown",
   "metadata": {},
   "source": [
    "We can also use the following code to zoom in and see better what happens beside the big spike at 0."
   ]
  },
  {
   "cell_type": "code",
   "execution_count": 21,
   "metadata": {},
   "outputs": [
    {
     "data": {
      "text/plain": [
       "[0, 6, 0, 0.3]"
      ]
     },
     "execution_count": 21,
     "metadata": {},
     "output_type": "execute_result"
    },
    {
     "data": {
      "image/png": "[encoded data removed]",
      "text/plain": [
       "<Figure size 432x288 with 1 Axes>"
      ]
     },
     "metadata": {
      "needs_background": "light"
     },
     "output_type": "display_data"
    }
   ],
   "source": [
    "plt.hist(eigvals,density=True,bins=25)\n",
    "plt.axis([0,6,0,0.3]) #plt.axis([xmin,xmax,ymin,ymax])"
   ]
  },
  {
   "cell_type": "markdown",
   "metadata": {},
   "source": [
    "What do you notice?"
   ]
  },
  {
   "cell_type": "code",
   "execution_count": 22,
   "metadata": {},
   "outputs": [],
   "source": [
    "### 5 ###\n",
    "#student\n",
    "#most eigenvalues are close to zero, but if we ignore that huge spike, the whole density patterns follows\n",
    "#what we have in the previous trial"
   ]
  },
  {
   "cell_type": "markdown",
   "metadata": {},
   "source": [
    "In the above example the ratio $\\rho=m/N$ was 2. We now explore what happens when $\\rho$ varies."
   ]
  },
  {
   "cell_type": "markdown",
   "metadata": {},
   "source": [
    "Let's see now what happens if $\\rho=1$, let's say $m=n=500$."
   ]
  },
  {
   "cell_type": "code",
   "execution_count": 23,
   "metadata": {},
   "outputs": [
    {
     "data": {
      "text/plain": [
       "(array([1.60057573, 0.64023029, 0.48657502, 0.40974739, 0.34572436,\n",
       "        0.26889672, 0.30731054, 0.24328751, 0.2176783 , 0.2176783 ,\n",
       "        0.19206909, 0.19206909, 0.15365527, 0.15365527, 0.14085066,\n",
       "        0.12804606, 0.10243685, 0.12804606, 0.08963224, 0.08963224,\n",
       "        0.08963224, 0.05121842, 0.06402303, 0.05121842, 0.03841382]),\n",
       " array([8.67694707e-09, 1.56193805e-01, 3.12387601e-01, 4.68581397e-01,\n",
       "        6.24775194e-01, 7.80968990e-01, 9.37162786e-01, 1.09335658e+00,\n",
       "        1.24955038e+00, 1.40574417e+00, 1.56193797e+00, 1.71813177e+00,\n",
       "        1.87432556e+00, 2.03051936e+00, 2.18671316e+00, 2.34290695e+00,\n",
       "        2.49910075e+00, 2.65529454e+00, 2.81148834e+00, 2.96768214e+00,\n",
       "        3.12387593e+00, 3.28006973e+00, 3.43626353e+00, 3.59245732e+00,\n",
       "        3.74865112e+00, 3.90484491e+00]),\n",
       " <a list of 25 Patch objects>)"
      ]
     },
     "execution_count": 23,
     "metadata": {},
     "output_type": "execute_result"
    },
    {
     "data": {
      "image/png": "[encoded data removed]",
      "text/plain": [
       "<Figure size 432x288 with 1 Axes>"
      ]
     },
     "metadata": {
      "needs_background": "light"
     },
     "output_type": "display_data"
    }
   ],
   "source": [
    "### 6 ###\n",
    "#student\n",
    "m=500\n",
    "N=500\n",
    "X=np.random.normal(0,1,(m,N))\n",
    "C=1/N*(np.dot(np.transpose(X),X))\n",
    "eigvals, eigvecs = np.linalg.eig(C)\n",
    "plt.hist(eigvals,density=True,bins=25)"
   ]
  },
  {
   "cell_type": "markdown",
   "metadata": {},
   "source": [
    "When $\\rho=1$ the distribution of the singular values of $X/\\sqrt{N}$ asymptotically approach the quarter circle law that has density\n",
    "$$\n",
    "f(s)=\\frac{1}{\\pi}\\sqrt{4-s^2}\\;\\;\\;\\;if \\;\\;\\; -2\\leq s\\leq 2\n",
    "$$\n",
    "Therefore the distribution of the eignevalues of $X^\\top X/N$ will be: \n",
    "$$\n",
    "\\tilde{f}(s)=\\frac{\\sqrt{4-s}}{2\\pi \\sqrt{s}}\\;\\;\\;\\;if \\;\\;\\; 0\\leq s\\leq 4\n",
    "$$\n",
    "Why?"
   ]
  },
  {
   "cell_type": "code",
   "execution_count": 24,
   "metadata": {},
   "outputs": [],
   "source": [
    "### 7 ###\n",
    "#student: written part\n",
    "#by the formula given in class, (1+sqrt(1))^2 is 4 and (1-sqrt(1))^2 is 0.\n",
    "#thus numerator is sqrt(s(4-s)). Denominator is 2pis. Thus could be reduced into\n",
    "#the given answer shown above."
   ]
  },
  {
   "cell_type": "markdown",
   "metadata": {},
   "source": [
    "Let's now plot on our previous histogram the density."
   ]
  },
  {
   "cell_type": "code",
   "execution_count": 25,
   "metadata": {},
   "outputs": [
    {
     "name": "stderr",
     "output_type": "stream",
     "text": [
      "/opt/conda/lib/python3.6/site-packages/ipykernel_launcher.py:3: RuntimeWarning: divide by zero encountered in true_divide\n",
      "  This is separate from the ipykernel package so we can avoid doing imports until\n"
     ]
    },
    {
     "data": {
      "image/png": "[encoded data removed]",
      "text/plain": [
       "<Figure size 432x288 with 1 Axes>"
      ]
     },
     "metadata": {
      "needs_background": "light"
     },
     "output_type": "display_data"
    }
   ],
   "source": [
    "plt.hist(eigvals,density=True,bins=25)\n",
    "x = np.arange(0,4,0.001)  #some random value for x axis\n",
    "y = (np.sqrt(4-x))/(np.pi*np.sqrt(x)) #y=f(x)\n",
    "h = plt.plot(x, y, lw=2) \n",
    "plt.axis([0,4,0,2.5]) #zoom in to see better\n",
    "plt.show()\n"
   ]
  },
  {
   "cell_type": "markdown",
   "metadata": {},
   "source": [
    "What happen if $\\rho \\rightarrow \\infty$? \n",
    "When $\\rho> 1$, under some regularity conditions (satisfied here), the distribution of the eigenvalues of $\\frac{X^\\top X}{N}$ asymptotically approach the Marcenko-Pastur law\n",
    "$$\n",
    "f(x)=1/\\rho\\frac{\\sqrt{(x-a)(b-x)}}{2\\pi x 1/\\rho}\\;\\;\\;\\;\\;\\;\\;\\;\\;if\\;\\;\\;a\\leq x\\leq b\n",
    "$$\n",
    "where $a=\\rho*(1-\\sqrt{1/\\rho})^2$ and $b=\\rho*(1+\\sqrt{1/\\rho})^2$.\n",
    "In the following, leave $n=500$ fixed and try to increase $m$ to see what happens. Superimpose to all of your histograms the appropriated Marcenko-Pastur law."
   ]
  },
  {
   "cell_type": "code",
   "execution_count": 26,
   "metadata": {},
   "outputs": [],
   "source": [
    "### 8 ###\n",
    "#student\n",
    "# when the ratio approches infinity, it has a wider range of eigenvalues and the\n",
    "# spike in the histogram moves to the right(larger eigenvalues)"
   ]
  },
  {
   "cell_type": "code",
   "execution_count": 29,
   "metadata": {},
   "outputs": [
    {
     "name": "stderr",
     "output_type": "stream",
     "text": [
      "/opt/conda/lib/python3.6/site-packages/ipykernel_launcher.py:10: RuntimeWarning: invalid value encountered in sqrt\n",
      "  # Remove the CWD from sys.path while we load stuff.\n"
     ]
    },
    {
     "data": {
      "image/png": "[encoded data removed]",
      "text/plain": [
       "<Figure size 432x288 with 1 Axes>"
      ]
     },
     "metadata": {
      "needs_background": "light"
     },
     "output_type": "display_data"
    }
   ],
   "source": [
    "### 8 ###\n",
    "#student\n",
    "m=500*2\n",
    "N=500\n",
    "X=np.random.normal(0,1,(m,N))\n",
    "C=1/N*(np.dot(np.transpose(X),X))\n",
    "eigvals, eigvecs = np.linalg.eig(C)\n",
    "plt.hist(eigvals,density=True,bins=25)\n",
    "x = np.arange(0,4,0.001)  #some random value for x axis\n",
    "y = 1/2*(np.sqrt((x-2*(1-np.sqrt(1/2))**2)*(2*(1+np.sqrt(1/2))**2-x)))/(2*np.pi*x/2) #y=f(x)\n",
    "h = plt.plot(x, y, lw=2) \n",
    "#plt.axis([0,4,0,2.5]) #zoom in to see better\n",
    "plt.show()"
   ]
  },
  {
   "cell_type": "code",
   "execution_count": 36,
   "metadata": {},
   "outputs": [
    {
     "name": "stderr",
     "output_type": "stream",
     "text": [
      "/opt/conda/lib/python3.6/site-packages/ipykernel_launcher.py:8: RuntimeWarning: invalid value encountered in sqrt\n",
      "  \n"
     ]
    },
    {
     "data": {
      "image/png": "[encoded data removed]",
      "text/plain": [
       "<Figure size 432x288 with 1 Axes>"
      ]
     },
     "metadata": {
      "needs_background": "light"
     },
     "output_type": "display_data"
    }
   ],
   "source": [
    "m=500*4\n",
    "N=500\n",
    "X=np.random.normal(0,1,(m,N))\n",
    "C=1/N*(np.dot(np.transpose(X),X))\n",
    "eigvals, eigvecs = np.linalg.eig(C)\n",
    "plt.hist(eigvals,density=True,bins=25)\n",
    "x = np.arange(0,4,0.001)  #some random value for x axis\n",
    "y = 1/4*(np.sqrt((x-4*(1-np.sqrt(1/4))**2)*(4*(1+np.sqrt(1/4))**2-x)))/(2*np.pi*x/4) #y=f(x)\n",
    "h = plt.plot(x, y, lw=2) \n",
    "#plt.axis([0,4,0,2.5]) #zoom in to see better\n",
    "plt.show()"
   ]
  },
  {
   "cell_type": "markdown",
   "metadata": {},
   "source": [
    "What happen if $\\rho \\rightarrow 0$?\n",
    "When $\\rho< 1$, under some regularity conditions (satisfied here), the distribution of the eigenvalues of $X^\\top X/N$ asymptotically approach the Marcenko-Pastur law plus a $(1-\\rho)$ spike at 0. \n",
    "\n",
    "In the following, leave $n=500$ fixed and try to decrease $m$ in a way that you have $\\rho$ being (approximately) the reciprocal of the $\\rho$ you picked to illustrate the case when $\\rho \\rightarrow \\infty$ to see what happens. Superimpose to all of your histograms the appropriated Marcenko-Pastur law. (You might need to use plt.axis() to see better!!!)"
   ]
  },
  {
   "cell_type": "code",
   "execution_count": 37,
   "metadata": {},
   "outputs": [
    {
     "name": "stderr",
     "output_type": "stream",
     "text": [
      "/opt/conda/lib/python3.6/site-packages/ipykernel_launcher.py:10: RuntimeWarning: invalid value encountered in sqrt\n",
      "  # Remove the CWD from sys.path while we load stuff.\n"
     ]
    },
    {
     "data": {
      "image/png": "[encoded data removed]",
      "text/plain": [
       "<Figure size 432x288 with 1 Axes>"
      ]
     },
     "metadata": {
      "needs_background": "light"
     },
     "output_type": "display_data"
    }
   ],
   "source": [
    "### 9###\n",
    "#student\n",
    "m=250\n",
    "N=500\n",
    "X=np.random.normal(0,1,(m,N))\n",
    "C=1/N*(np.dot(np.transpose(X),X))\n",
    "eigvals, eigvecs = np.linalg.eig(C)\n",
    "plt.hist(eigvals,density=True,bins=25)\n",
    "x = np.arange(0,4,0.001)  #some random value for x axis\n",
    "y = 2*(np.sqrt((x-1/2*(1-np.sqrt(2))**2)*(1/2*(1+np.sqrt(2))**2-x)))/(2*np.pi*x*2) #y=f(x)\n",
    "h = plt.plot(x, y, lw=2) \n",
    "plt.axis([0,4,0,1.5]) #zoom in to see better\n",
    "plt.show()"
   ]
  },
  {
   "cell_type": "code",
   "execution_count": 38,
   "metadata": {},
   "outputs": [
    {
     "name": "stderr",
     "output_type": "stream",
     "text": [
      "/opt/conda/lib/python3.6/site-packages/ipykernel_launcher.py:10: RuntimeWarning: invalid value encountered in sqrt\n",
      "  # Remove the CWD from sys.path while we load stuff.\n"
     ]
    },
    {
     "data": {
      "image/png": "[encoded data removed]",
      "text/plain": [
       "<Figure size 432x288 with 1 Axes>"
      ]
     },
     "metadata": {
      "needs_background": "light"
     },
     "output_type": "display_data"
    }
   ],
   "source": [
    "### 9 ###\n",
    "#student\n",
    "m=125\n",
    "N=500\n",
    "X=np.random.normal(0,1,(m,N))\n",
    "C=1/N*(np.dot(np.transpose(X),X))\n",
    "eigvals, eigvecs = np.linalg.eig(C)\n",
    "plt.hist(eigvals,density=True,bins=25)\n",
    "x = np.arange(0,4,0.001)  #some random value for x axis\n",
    "y = 4*(np.sqrt((x-1/4*(1-np.sqrt(4))**2)*(1/4*(1+np.sqrt(4))**2-x)))/(2*np.pi*x*4) #y=f(x)\n",
    "h = plt.plot(x, y, lw=2) \n",
    "plt.axis([0,4,0,1.5]) #zoom in to see better\n",
    "plt.show()"
   ]
  },
  {
   "cell_type": "code",
   "execution_count": 39,
   "metadata": {},
   "outputs": [],
   "source": [
    "#when ratio approches zero, there is a spike at x=0 and as ratio gets smaller, there is a \"gap\"\n",
    "#in the \"density function\" since explained in class, is because of the ratio less than 1. \n",
    "#the trend after certain value(1-ratio) the trend is similar to what we have in previous bigger ratio values"
   ]
  },
  {
   "cell_type": "markdown",
   "metadata": {},
   "source": [
    "## Submission Instructions ##\n",
    "\n",
    "Many assignments throughout the course will have a written portion and a code portion. Please follow the directions below to properly submit both portions.\n",
    "\n",
    "### Written Portion ###\n",
    "*  Scan all the pages into a PDF. You can use any scanner or a phone using applications such as CamScanner. Please **DO NOT** simply take pictures using your phone. \n",
    "* **Please start a new page for each PART**. If you have already written multiple questions on the same page, you can crop the image in CamScanner or fold your page over (the old-fashioned way). This helps expedite grading.\n",
    "* It is your responsibility to check that all the work on all the scanned pages is legible.\n",
    "\n",
    "### Code Portion ###\n",
    "* Save your notebook using File > Save and Checkpoint.\n",
    "* Use File > Downland as > PDF via Latex.\n",
    "* Download the PDF file and confirm that none of your work is missing or cut off. \n",
    "### Submitting ###\n",
    "* Combine the PDFs from the written and code portions into one PDF.  [Here](https://smallpdf.com/merge-pdf) is a useful tool for doing so.  \n",
    "* Submit the assignment to Lab4 on Gradescope. \n",
    "* **Make sure to assign each page of your pdf to the correct question.**\n",
    "\n"
   ]
  },
  {
   "cell_type": "code",
   "execution_count": null,
   "metadata": {},
   "outputs": [],
   "source": []
  }
 ],
 "metadata": {
  "kernelspec": {
   "display_name": "Python 3",
   "language": "python",
   "name": "python3"
  },
  "language_info": {
   "codemirror_mode": {
    "name": "ipython",
    "version": 3
   },
   "file_extension": ".py",
   "mimetype": "text/x-python",
   "name": "python",
   "nbconvert_exporter": "python",
   "pygments_lexer": "ipython3",
   "version": "3.6.7"
  }
 },
 "nbformat": 4,
 "nbformat_minor": 2
}
