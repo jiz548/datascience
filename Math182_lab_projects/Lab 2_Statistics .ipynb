{
 "cells": [
  {
   "cell_type": "code",
   "execution_count": 1,
   "metadata": {},
   "outputs": [],
   "source": [
    "from datascience import *\n",
    "from prob140 import *\n",
    "import numpy as np\n",
    "import matplotlib.pyplot as plt\n",
    "plt.style.use('fivethirtyeight')\n",
    "%matplotlib inline\n",
    "from scipy import stats\n",
    "from scipy import special\n",
    "import warnings\n",
    "warnings.filterwarnings('ignore')\n",
    "from sklearn.datasets import make_regression\n",
    "from sklearn.linear_model import LinearRegression\n"
   ]
  },
  {
   "cell_type": "markdown",
   "metadata": {},
   "source": [
    "## Due date: Tuesday 02/04 at 11.59 pm ##"
   ]
  },
  {
   "cell_type": "markdown",
   "metadata": {},
   "source": [
    "# Lab 2: Statistics: Maximum likelihood estimation and Least squares regression#\n",
    "\n",
    "In this lab we are going to use Python to review some statistics concepts studied in class:\n",
    "- Maximum likelihood estimation\n",
    "- Least squares regression"
   ]
  },
  {
   "cell_type": "markdown",
   "metadata": {},
   "source": [
    "## Part 1: Maximum likelihood estimation ##\n",
    "Likelihood functions can be complicated and MLEs can't always be found analytically. This exercise is about an example where the maximization has to be done numerically. \n",
    "\n",
    "For $n > 1$ let $X_1, X_2, \\ldots, X_n$ be i.i.d., each with the gamma $(r, \\lambda)$ distribution. \n",
    "Therefore, with the following density:\n",
    "$$\n",
    "f(x)=\\frac{\\lambda^r}{\\Gamma(r)} x^{r-1} e^{-\\lambda x}\n",
    "$$\n",
    "\n",
    "Suppose that we are all-knowing, and suppose we know that the true value of $r$ is 3 and the true value of $\\lambda$ is 0.25. Run the cell below to create a sample of size $n = 625$. We are going to give this sample to some data scientists and ask them to use the maximum likelihood method to estimate $r$ and $\\lambda$. "
   ]
  },
  {
   "cell_type": "code",
   "execution_count": 2,
   "metadata": {},
   "outputs": [],
   "source": [
    "true_r = 3\n",
    "true_lam = 0.25\n",
    "\n",
    "n = 625\n",
    "\n",
    "original_sample = stats.gamma.rvs(true_r, scale=1/true_lam, size=n)\n",
    "original_tbl = Table().with_column('Original Sample', original_sample)"
   ]
  },
  {
   "cell_type": "markdown",
   "metadata": {},
   "source": [
    "Run the cell below to see the distribution of the sample."
   ]
  },
  {
   "cell_type": "code",
   "execution_count": 3,
   "metadata": {},
   "outputs": [
    {
     "data": {
      "image/png": "[encoded data removed]",
      "text/plain": [
       "<Figure size 432x288 with 1 Axes>"
      ]
     },
     "metadata": {
      "needs_background": "light"
     },
     "output_type": "display_data"
    }
   ],
   "source": [
    "original_tbl.hist(bins=20)"
   ]
  },
  {
   "cell_type": "markdown",
   "metadata": {},
   "source": [
    "Let $\\bar{X}_n = \\frac{1}{n} \\sum_{i=1}^n X_i$. What is $E(\\bar{X}_n)$?"
   ]
  },
  {
   "cell_type": "markdown",
   "metadata": {},
   "source": [
    "#student"
   ]
  },
  {
   "cell_type": "markdown",
   "metadata": {},
   "source": [
    "In the cell below, find the observed value of $\\bar{X}_n$ in the sample created above."
   ]
  },
  {
   "cell_type": "code",
   "execution_count": 4,
   "metadata": {},
   "outputs": [
    {
     "data": {
      "text/plain": [
       "12.252489165269479"
      ]
     },
     "execution_count": 4,
     "metadata": {},
     "output_type": "execute_result"
    }
   ],
   "source": [
    "#student\n",
    "#expected value is the average, which will be r/lamda, which is 12\n",
    "sumx = 0\n",
    "for i in original_sample:\n",
    "    sumx = sumx+i\n",
    "sumx/n\n",
    "# value of Xn from above sample is as shown in the output"
   ]
  },
  {
   "cell_type": "markdown",
   "metadata": {},
   "source": [
    "### 1.1: MLE of $\\lambda$ ###\n",
    "Write the log likelihood function $L(r, \\lambda)$ given an i.i.d. gamma $(r, \\lambda)$ sample $X_1, X_2, \\ldots, X_n$. For fixed $r$, find the value of $\\lambda$ that maximizes this log likelihood function. Your answer should be in terms of $r$ and the sample."
   ]
  },
  {
   "cell_type": "code",
   "execution_count": null,
   "metadata": {},
   "outputs": [],
   "source": [
    "#student: written part"
   ]
  },
  {
   "cell_type": "markdown",
   "metadata": {},
   "source": [
    "### 1.2: MLE of $r$ ###\n",
    "Now write the equation that has to be solved to find the maximizing value of $r$. The equation should just involve $r$ and the sample. Don't try to solve the equation"
   ]
  },
  {
   "cell_type": "markdown",
   "metadata": {},
   "source": [
    "#student: written part\n"
   ]
  },
  {
   "cell_type": "markdown",
   "metadata": {},
   "source": [
    "The equation doesn't have a closed-form analytical solution. The data scientists are going to have to see if they can maximize the log likelihood function numerically. The answers might be approximations, but good optimization programs work very well with smooth functions. \n",
    "\n",
    "Help the data scientists by defining the function `log_likelihood` in the cell below. It takes $r$, $\\lambda$ and the data as arguments and should return the log likelihood based on $r$, $\\lambda$, and the values of the data.\n",
    "\n",
    "Helpful code:\n",
    "- `np.log(x)` for $\\log(x)$; `x` can be an array\n",
    "- `special.gamma(x)` for $\\Gamma(x)$ where `x` is a positive number; the `special` module of `SciPy` has been imported for you\n",
    "\n",
    "You can use `n` in place of 625 as `n = 625` was assigned earlier."
   ]
  },
  {
   "cell_type": "code",
   "execution_count": 16,
   "metadata": {},
   "outputs": [],
   "source": [
    "#student\n",
    "#your solution to 6a\n",
    "\n",
    "def log_likelihood(r, lam, data):\n",
    "    sumx = 0\n",
    "    suml = 0\n",
    "    for i in data:\n",
    "        sumx = sumx + i\n",
    "        suml = suml + np.log(i)\n",
    "    sample_sum = sumx\n",
    "    sum_of_logs = suml\n",
    "    temp = len(data)*r*np.log(lam)-len(data)*np.log(special.gamma(r))+(r-1)*sum_of_logs-lam*sample_sum\n",
    "    return temp"
   ]
  },
  {
   "cell_type": "markdown",
   "metadata": {},
   "source": [
    "Most numerical optimization systems include a minimizing function because minimizing distances is a common use. The data scientists are going to use the function `minimize` from the `datascience` library. It is a version of the `minimize` function in the `optimize` module of `SciPy`. \n",
    "\n",
    "The argument of `minimize` is the name of the function being minimized. This function must only take numerical arguments (more than one is fine) and return a numerical output. \n",
    "\n",
    "`minimize` returns the minimizing argument (or arguments) of the specified function.\n",
    "\n",
    "The example below shows how to use `minimize` to find the values of $a$ and $b$ that minimize $f(a, b) = a^2 + b^2 + 2$. The math answer is $a = 0$ and $b = 0$."
   ]
  },
  {
   "cell_type": "code",
   "execution_count": 17,
   "metadata": {},
   "outputs": [
    {
     "data": {
      "text/plain": [
       "array([3.16392934e-11, 3.16392934e-11])"
      ]
     },
     "execution_count": 17,
     "metadata": {},
     "output_type": "execute_result"
    }
   ],
   "source": [
    "def f(a, b):\n",
    "    return a**2 + b**2 + 2\n",
    "\n",
    "minimize(f)"
   ]
  },
  {
   "cell_type": "markdown",
   "metadata": {},
   "source": [
    "Maximizing a function is the same as minimizing the negative of that function. In the cell below, define the function that has to be specified as the argument to `minimize` in order to find the maximum likelihood estimates of $r$ and $\\lambda$. Remember that the function should only take $r$ and $\\lambda$ as its arguments."
   ]
  },
  {
   "cell_type": "code",
   "execution_count": 18,
   "metadata": {},
   "outputs": [],
   "source": [
    "#student\n",
    "#your solution to 6b\n",
    "\n",
    "def function_to_minimize(r, lam):\n",
    "    return -log_likelihood(r, lam, original_sample)"
   ]
  },
  {
   "cell_type": "markdown",
   "metadata": {},
   "source": [
    "Minimizing complicated functions isn't easy and the default numerical method used by `minimize` doesn't do well with the gamma log likelihood function. But `minimize` takes an optional argument that specifies the numerical method that should be used for optimization. We have specified the option `method = 'Nelder-Mead'` when you use `minimize` below. This specifies a simplex algorithm and works just fine. You don't have to worry about this detail but you're welcome to look up simplex algorithms if you are interested.\n",
    "\n",
    "Run the cell below. If you have defined your functions correctly above, you are likely to see pretty good estimates of the true values of $r$ and $\\lambda$ specified at the start of the exercise."
   ]
  },
  {
   "cell_type": "code",
   "execution_count": 19,
   "metadata": {},
   "outputs": [
    {
     "data": {
      "text/plain": [
       "array([3.03817035, 0.24796312])"
      ]
     },
     "execution_count": 19,
     "metadata": {},
     "output_type": "execute_result"
    }
   ],
   "source": [
    "minimize(function_to_minimize, method = 'Nelder-Mead')"
   ]
  },
  {
   "cell_type": "markdown",
   "metadata": {},
   "source": [
    "These are the data scientists' estimates $\\hat{r}$ and $\\hat{\\lambda}$ based on their sample. "
   ]
  },
  {
   "cell_type": "markdown",
   "metadata": {},
   "source": [
    "## Part 2: Least squares regression ##"
   ]
  },
  {
   "cell_type": "markdown",
   "metadata": {},
   "source": [
    "A 2013 study in the International Journal of Exercise Science studied collegiate shot put athletes and examined the relation between strength and shot put distance. The population consists of 28 female collegiate athletes. Strength was measured by the the biggest amount (in kilograms) that the athlete lifted in the \"1RM power clean\" in the pre-season. The distance (in meters) was the athlete's personal best."
   ]
  },
  {
   "cell_type": "code",
   "execution_count": 25,
   "metadata": {},
   "outputs": [
    {
     "data": {
      "text/html": [
       "<table border=\"1\" class=\"dataframe\">\n",
       "    <thead>\n",
       "        <tr>\n",
       "            <th>Weight Lifted</th> <th>Shotput Distance</th>\n",
       "        </tr>\n",
       "    </thead>\n",
       "    <tbody>\n",
       "        <tr>\n",
       "            <td>37.5         </td> <td>6.4             </td>\n",
       "        </tr>\n",
       "        <tr>\n",
       "            <td>51.5         </td> <td>10.2            </td>\n",
       "        </tr>\n",
       "        <tr>\n",
       "            <td>61.3         </td> <td>12.4            </td>\n",
       "        </tr>\n",
       "        <tr>\n",
       "            <td>61.3         </td> <td>13              </td>\n",
       "        </tr>\n",
       "        <tr>\n",
       "            <td>63.6         </td> <td>13.2            </td>\n",
       "        </tr>\n",
       "        <tr>\n",
       "            <td>66.1         </td> <td>13              </td>\n",
       "        </tr>\n",
       "        <tr>\n",
       "            <td>70           </td> <td>12.7            </td>\n",
       "        </tr>\n",
       "        <tr>\n",
       "            <td>92.7         </td> <td>13.9            </td>\n",
       "        </tr>\n",
       "        <tr>\n",
       "            <td>90.5         </td> <td>15.5            </td>\n",
       "        </tr>\n",
       "        <tr>\n",
       "            <td>90.5         </td> <td>15.8            </td>\n",
       "        </tr>\n",
       "    </tbody>\n",
       "</table>\n",
       "<p>... (18 rows omitted)</p>"
      ],
      "text/plain": [
       "Weight Lifted | Shotput Distance\n",
       "37.5          | 6.4\n",
       "51.5          | 10.2\n",
       "61.3          | 12.4\n",
       "61.3          | 13\n",
       "63.6          | 13.2\n",
       "66.1          | 13\n",
       "70            | 12.7\n",
       "92.7          | 13.9\n",
       "90.5          | 15.5\n",
       "90.5          | 15.8\n",
       "... (18 rows omitted)"
      ]
     },
     "execution_count": 25,
     "metadata": {},
     "output_type": "execute_result"
    }
   ],
   "source": [
    "shotput = Table.read_table('shotput.csv')\n",
    "shotput"
   ]
  },
  {
   "cell_type": "markdown",
   "metadata": {},
   "source": [
    "Let's take a look at the scatterplot of Distance versus Weight."
   ]
  },
  {
   "cell_type": "code",
   "execution_count": 28,
   "metadata": {},
   "outputs": [
    {
     "data": {
      "image/png": "[encoded data removed]",
      "text/plain": [
       "<Figure size 360x360 with 1 Axes>"
      ]
     },
     "metadata": {
      "needs_background": "light"
     },
     "output_type": "display_data"
    }
   ],
   "source": [
    "#student\n",
    "shotput.scatter(\"Weight Lifted\", \"Shotput Distance\")"
   ]
  },
  {
   "cell_type": "markdown",
   "metadata": {},
   "source": [
    "### 2.1: Fitting least squares to the data ###"
   ]
  },
  {
   "cell_type": "markdown",
   "metadata": {},
   "source": [
    "We want to fit to this data least squares regression to find the best straight line to make our prediction.\n",
    "We can use the scikit-learn implementation of Linear Regression.\n",
    "In the following X is the matrix of explanatory variables and y is the vector of the response."
   ]
  },
  {
   "cell_type": "code",
   "execution_count": 29,
   "metadata": {},
   "outputs": [
    {
     "data": {
      "text/plain": [
       "(5.959629098373954, 0.09834382159781996)"
      ]
     },
     "execution_count": 29,
     "metadata": {},
     "output_type": "execute_result"
    }
   ],
   "source": [
    "X=shotput['Weight Lifted']\n",
    "y=shotput['Shotput Distance']\n",
    "lr = LinearRegression()\n",
    "lr.fit(np.reshape(X,(-1,1)), y) #X needs to be in matrix form\n",
    "q=lr.intercept_ #intercept\n",
    "m=lr.coef_[0] #slope\n",
    "q,m  "
   ]
  },
  {
   "cell_type": "markdown",
   "metadata": {},
   "source": [
    "We want now to plot over the scatterplot the regression line. To do so, first of all we need to find the predicted value $\\hat{y}=mx+q$. We can use lr.predict(X) where X is the matrix of values of the explanatory variables for which we want to find the predicted values."
   ]
  },
  {
   "cell_type": "code",
   "execution_count": 32,
   "metadata": {},
   "outputs": [
    {
     "data": {
      "text/plain": [
       "array([ 9.64752241, 11.02433591, 11.98810536, 11.98810536, 12.21429615,\n",
       "       12.46015571, 12.84369661, 15.07610136, 14.85974495, 14.85974495,\n",
       "       15.28262339, 15.49897979, 15.49897979, 15.49897979, 15.9906989 ,\n",
       "       15.9906989 , 16.14804902, 15.83334879, 16.62009936, 17.17082476,\n",
       "       17.29867173, 17.2593342 , 17.23966544, 18.11492545, 18.33128186,\n",
       "       17.67237825, 17.65270949, 19.83594233])"
      ]
     },
     "execution_count": 32,
     "metadata": {},
     "output_type": "execute_result"
    }
   ],
   "source": [
    "#student\n",
    "predicted=lr.predict(np.reshape(X,(28,1)))\n",
    "predicted"
   ]
  },
  {
   "cell_type": "markdown",
   "metadata": {},
   "source": [
    "Augment now the table shotput with a column called 'Predicted  Shotput Distance' that contains the predicted distance under the linear model. "
   ]
  },
  {
   "cell_type": "code",
   "execution_count": 38,
   "metadata": {},
   "outputs": [],
   "source": [
    "#student\n",
    "shotput['Predicted Shotput Distance'] = predicted\n",
    "z = shotput['Predicted Shotput Distance']"
   ]
  },
  {
   "cell_type": "markdown",
   "metadata": {},
   "source": [
    "Add to the scatter plot of before the predicted value just computed."
   ]
  },
  {
   "cell_type": "code",
   "execution_count": 42,
   "metadata": {},
   "outputs": [
    {
     "data": {
      "text/plain": [
       "Text(0, 0.5, 'Shotput Distance')"
      ]
     },
     "execution_count": 42,
     "metadata": {},
     "output_type": "execute_result"
    },
    {
     "data": {
      "image/png": "[encoded data removed]",
      "text/plain": [
       "<Figure size 432x288 with 1 Axes>"
      ]
     },
     "metadata": {
      "needs_background": "light"
     },
     "output_type": "display_data"
    }
   ],
   "source": [
    "#student\n",
    "plt.scatter(X,y)\n",
    "plt.plot(X,z)\n",
    "plt.xlabel('Weight Lifted')\n",
    "plt.ylabel('Shotput Distance')"
   ]
  },
  {
   "cell_type": "markdown",
   "metadata": {},
   "source": [
    "### 2.2: Least squares line minimize the MSE ###"
   ]
  },
  {
   "cell_type": "markdown",
   "metadata": {},
   "source": [
    "We verify now that the intercept and the slope founded by the routine of scikit-learn are the one that minimize the Mean Squared error.\n",
    "Define a function called shotput_linear_mse that takes an arbirtary slope and intercept as arguments and return the corresponding mse. "
   ]
  },
  {
   "cell_type": "code",
   "execution_count": 43,
   "metadata": {},
   "outputs": [],
   "source": [
    "#student\n",
    "def shotput_linear_mse(any_slope, any_intercept):\n",
    "    x=shotput['Weight Lifted']\n",
    "    y=shotput['Shotput Distance']\n",
    "    fitted = any_slope * x + any_intercept\n",
    "    mse = np.mean((y - fitted) ** 2)\n",
    "    return mse"
   ]
  },
  {
   "cell_type": "markdown",
   "metadata": {},
   "source": [
    "Use minimize just as before to find the constants that minimize the mean squared error."
   ]
  },
  {
   "cell_type": "code",
   "execution_count": 63,
   "metadata": {},
   "outputs": [
    {
     "data": {
      "text/plain": [
       "(0.09834412178416452, 5.959609723457708)"
      ]
     },
     "execution_count": 63,
     "metadata": {},
     "output_type": "execute_result"
    }
   ],
   "source": [
    "#student\n",
    "[m1,q1] = minimize(shotput_linear_mse, method = 'Nelder-Mead')\n",
    "m1,q1"
   ]
  },
  {
   "cell_type": "markdown",
   "metadata": {},
   "source": [
    "### 2.3: Prediction of X given Y ###"
   ]
  },
  {
   "cell_type": "markdown",
   "metadata": {},
   "source": [
    "Use now the Python routine to find the least squares line for prediction of Weight Lifted given Shotput distance."
   ]
  },
  {
   "cell_type": "code",
   "execution_count": 64,
   "metadata": {},
   "outputs": [
    {
     "data": {
      "text/plain": [
       "(8.108641538351494, -28.975182579295026)"
      ]
     },
     "execution_count": 64,
     "metadata": {},
     "output_type": "execute_result"
    }
   ],
   "source": [
    "#student\n",
    "def shotput_linear_mse_y(any_slope, any_intercept):\n",
    "    x=shotput['Weight Lifted']\n",
    "    y=shotput['Shotput Distance']\n",
    "    fitted = any_slope * y + any_intercept\n",
    "    mse = np.mean((x - fitted) ** 2)\n",
    "    return mse\n",
    "[m2,q2] = minimize(shotput_linear_mse_y, method = 'Nelder-Mead')\n",
    "m2,q2"
   ]
  },
  {
   "cell_type": "markdown",
   "metadata": {},
   "source": [
    "Considering the two models y=q+mx and x=q'+m'y, do the estimates of the two models agree? Why?"
   ]
  },
  {
   "cell_type": "markdown",
   "metadata": {},
   "source": [
    "#student:"
   ]
  },
  {
   "cell_type": "code",
   "execution_count": 65,
   "metadata": {
    "scrolled": true
   },
   "outputs": [
    {
     "data": {
      "text/plain": [
       "Text(0, 0.5, 'Shotput Distance')"
      ]
     },
     "execution_count": 65,
     "metadata": {},
     "output_type": "execute_result"
    },
    {
     "data": {
      "image/png": "[encoded data removed]",
      "text/plain": [
       "<Figure size 432x288 with 1 Axes>"
      ]
     },
     "metadata": {
      "needs_background": "light"
     },
     "output_type": "display_data"
    }
   ],
   "source": [
    "X=shotput['Weight Lifted']\n",
    "y=shotput['Shotput Distance']\n",
    "Y_pred = m1*X+q1\n",
    "X_pred = m2*y+q2\n",
    "plt.scatter(X,y)\n",
    "plt.plot(X,Y_pred,color = 'red')\n",
    "plt.plot(X_pred,y,color = 'blue')\n",
    "plt.xlabel('Weight Lifted')\n",
    "plt.ylabel('Shotput Distance')"
   ]
  },
  {
   "cell_type": "code",
   "execution_count": null,
   "metadata": {},
   "outputs": [],
   "source": [
    "#Not identical. Because the minimizer value of slope and intercept is different since one is given x and one is given y."
   ]
  },
  {
   "cell_type": "markdown",
   "metadata": {},
   "source": [
    "## Submission Instructions ##\n",
    "\n",
    "Many assignments throughout the course will have a written portion and a code portion. Please follow the directions below to properly submit both portions.\n",
    "\n",
    "### Written Portion ###\n",
    "*  Scan all the pages into a PDF. You can use any scanner or a phone using applications such as CamScanner. Please **DO NOT** simply take pictures using your phone. \n",
    "* **Please start a new page for each PART**. If you have already written multiple questions on the same page, you can crop the image in CamScanner or fold your page over (the old-fashioned way). This helps expedite grading.\n",
    "* It is your responsibility to check that all the work on all the scanned pages is legible.\n",
    "\n",
    "### Code Portion ###\n",
    "* Save your notebook using File > Save and Checkpoint.\n",
    "* Use File > Downland as > PDF via Latex.\n",
    "* Download the PDF file and confirm that none of your work is missing or cut off. \n",
    "### Submitting ###\n",
    "* Combine the PDFs from the written and code portions into one PDF.  [Here](https://smallpdf.com/merge-pdf) is a useful tool for doing so.  \n",
    "* Submit the assignment to Lab2 on Gradescope. \n",
    "* **Make sure to assign each page of your pdf to the correct question.**\n",
    "\n"
   ]
  },
  {
   "cell_type": "code",
   "execution_count": null,
   "metadata": {},
   "outputs": [],
   "source": []
  }
 ],
 "metadata": {
  "kernelspec": {
   "display_name": "Python 3",
   "language": "python",
   "name": "python3"
  },
  "language_info": {
   "codemirror_mode": {
    "name": "ipython",
    "version": 3
   },
   "file_extension": ".py",
   "mimetype": "text/x-python",
   "name": "python",
   "nbconvert_exporter": "python",
   "pygments_lexer": "ipython3",
   "version": "3.6.7"
  }
 },
 "nbformat": 4,
 "nbformat_minor": 2
}
